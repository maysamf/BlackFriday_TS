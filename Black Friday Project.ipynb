{
 "cells": [
  {
   "cell_type": "markdown",
   "metadata": {},
   "source": [
    "# Analysis of Black Friday Dataset"
   ]
  },
  {
   "cell_type": "markdown",
   "metadata": {},
   "source": [
    "## Dataset Description\n",
    "The dataset shows the purchases of a store on a black Friday. It contain 12 columns which are:  \n",
    "* The user ID.\n",
    "* The product ID.\n",
    "* The gender of the costumer.\n",
    "* The age of the costumer.\n",
    "* The occupation of the costumer.\n",
    "* The city category. \n",
    "* The duration at which the user has been in the city.\n",
    "* Marital status of the costumer.\n",
    "* The product category under three main categories.\n",
    "* The purchase price.\n",
    "\n",
    "## Dataset Issues\n",
    "After taking a look on the data set, I came to find 2 issues with the it: \n",
    "1. It contain some missing values: It can be replaced with zeros.\n",
    "2. Some columns are masked which means I can't have a full understanding of the data unless I know what each masked value means. For example, the product category columns are masked so it is hard to know what each vale means under this column. I assume it is a subcategory under the three main categories and based on this I'd perform my analysis."
   ]
  },
  {
   "cell_type": "markdown",
   "metadata": {},
   "source": [
    "## Importing Datasets\n"
   ]
  },
  {
   "cell_type": "code",
   "execution_count": 1,
   "metadata": {},
   "outputs": [],
   "source": [
    "import numpy as np\n",
    "import pandas as pd\n",
    "\n",
    "import matplotlib.pyplot as plt\n",
    "import seaborn as sns\n",
    "%matplotlib inline"
   ]
  },
  {
   "cell_type": "code",
   "execution_count": 2,
   "metadata": {},
   "outputs": [],
   "source": [
    "data = pd.read_csv('BlackFriday.csv')"
   ]
  },
  {
   "cell_type": "code",
   "execution_count": 3,
   "metadata": {},
   "outputs": [
    {
     "data": {
      "text/html": [
       "<div>\n",
       "<style scoped>\n",
       "    .dataframe tbody tr th:only-of-type {\n",
       "        vertical-align: middle;\n",
       "    }\n",
       "\n",
       "    .dataframe tbody tr th {\n",
       "        vertical-align: top;\n",
       "    }\n",
       "\n",
       "    .dataframe thead th {\n",
       "        text-align: right;\n",
       "    }\n",
       "</style>\n",
       "<table border=\"1\" class=\"dataframe\">\n",
       "  <thead>\n",
       "    <tr style=\"text-align: right;\">\n",
       "      <th></th>\n",
       "      <th>User_ID</th>\n",
       "      <th>Product_ID</th>\n",
       "      <th>Gender</th>\n",
       "      <th>Age</th>\n",
       "      <th>Occupation</th>\n",
       "      <th>City_Category</th>\n",
       "      <th>Stay_In_Current_City_Years</th>\n",
       "      <th>Marital_Status</th>\n",
       "      <th>Product_Category_1</th>\n",
       "      <th>Product_Category_2</th>\n",
       "      <th>Product_Category_3</th>\n",
       "      <th>Purchase</th>\n",
       "    </tr>\n",
       "  </thead>\n",
       "  <tbody>\n",
       "    <tr>\n",
       "      <th>0</th>\n",
       "      <td>1000001</td>\n",
       "      <td>P00069042</td>\n",
       "      <td>F</td>\n",
       "      <td>0-17</td>\n",
       "      <td>10</td>\n",
       "      <td>A</td>\n",
       "      <td>2</td>\n",
       "      <td>0</td>\n",
       "      <td>3</td>\n",
       "      <td>NaN</td>\n",
       "      <td>NaN</td>\n",
       "      <td>8370</td>\n",
       "    </tr>\n",
       "    <tr>\n",
       "      <th>1</th>\n",
       "      <td>1000001</td>\n",
       "      <td>P00248942</td>\n",
       "      <td>F</td>\n",
       "      <td>0-17</td>\n",
       "      <td>10</td>\n",
       "      <td>A</td>\n",
       "      <td>2</td>\n",
       "      <td>0</td>\n",
       "      <td>1</td>\n",
       "      <td>6.0</td>\n",
       "      <td>14.0</td>\n",
       "      <td>15200</td>\n",
       "    </tr>\n",
       "    <tr>\n",
       "      <th>2</th>\n",
       "      <td>1000001</td>\n",
       "      <td>P00087842</td>\n",
       "      <td>F</td>\n",
       "      <td>0-17</td>\n",
       "      <td>10</td>\n",
       "      <td>A</td>\n",
       "      <td>2</td>\n",
       "      <td>0</td>\n",
       "      <td>12</td>\n",
       "      <td>NaN</td>\n",
       "      <td>NaN</td>\n",
       "      <td>1422</td>\n",
       "    </tr>\n",
       "    <tr>\n",
       "      <th>3</th>\n",
       "      <td>1000001</td>\n",
       "      <td>P00085442</td>\n",
       "      <td>F</td>\n",
       "      <td>0-17</td>\n",
       "      <td>10</td>\n",
       "      <td>A</td>\n",
       "      <td>2</td>\n",
       "      <td>0</td>\n",
       "      <td>12</td>\n",
       "      <td>14.0</td>\n",
       "      <td>NaN</td>\n",
       "      <td>1057</td>\n",
       "    </tr>\n",
       "    <tr>\n",
       "      <th>4</th>\n",
       "      <td>1000002</td>\n",
       "      <td>P00285442</td>\n",
       "      <td>M</td>\n",
       "      <td>55+</td>\n",
       "      <td>16</td>\n",
       "      <td>C</td>\n",
       "      <td>4+</td>\n",
       "      <td>0</td>\n",
       "      <td>8</td>\n",
       "      <td>NaN</td>\n",
       "      <td>NaN</td>\n",
       "      <td>7969</td>\n",
       "    </tr>\n",
       "  </tbody>\n",
       "</table>\n",
       "</div>"
      ],
      "text/plain": [
       "   User_ID Product_ID Gender   Age  Occupation City_Category  \\\n",
       "0  1000001  P00069042      F  0-17          10             A   \n",
       "1  1000001  P00248942      F  0-17          10             A   \n",
       "2  1000001  P00087842      F  0-17          10             A   \n",
       "3  1000001  P00085442      F  0-17          10             A   \n",
       "4  1000002  P00285442      M   55+          16             C   \n",
       "\n",
       "  Stay_In_Current_City_Years  Marital_Status  Product_Category_1  \\\n",
       "0                          2               0                   3   \n",
       "1                          2               0                   1   \n",
       "2                          2               0                  12   \n",
       "3                          2               0                  12   \n",
       "4                         4+               0                   8   \n",
       "\n",
       "   Product_Category_2  Product_Category_3  Purchase  \n",
       "0                 NaN                 NaN      8370  \n",
       "1                 6.0                14.0     15200  \n",
       "2                 NaN                 NaN      1422  \n",
       "3                14.0                 NaN      1057  \n",
       "4                 NaN                 NaN      7969  "
      ]
     },
     "execution_count": 3,
     "metadata": {},
     "output_type": "execute_result"
    }
   ],
   "source": [
    "data.head()"
   ]
  },
  {
   "cell_type": "markdown",
   "metadata": {},
   "source": [
    "## EDA\n",
    "To explore the data, let's start with identifying the data type of each feature."
   ]
  },
  {
   "cell_type": "code",
   "execution_count": 4,
   "metadata": {},
   "outputs": [
    {
     "name": "stdout",
     "output_type": "stream",
     "text": [
      "<class 'pandas.core.frame.DataFrame'>\n",
      "RangeIndex: 537577 entries, 0 to 537576\n",
      "Data columns (total 12 columns):\n",
      "User_ID                       537577 non-null int64\n",
      "Product_ID                    537577 non-null object\n",
      "Gender                        537577 non-null object\n",
      "Age                           537577 non-null object\n",
      "Occupation                    537577 non-null int64\n",
      "City_Category                 537577 non-null object\n",
      "Stay_In_Current_City_Years    537577 non-null object\n",
      "Marital_Status                537577 non-null int64\n",
      "Product_Category_1            537577 non-null int64\n",
      "Product_Category_2            370591 non-null float64\n",
      "Product_Category_3            164278 non-null float64\n",
      "Purchase                      537577 non-null int64\n",
      "dtypes: float64(2), int64(5), object(5)\n",
      "memory usage: 49.2+ MB\n"
     ]
    }
   ],
   "source": [
    "data.info()"
   ]
  },
  {
   "cell_type": "markdown",
   "metadata": {},
   "source": [
    "All the data are qualitative except for the **Purchase**. The product categories has some missing values. Before replacing the missing values with zero, I have to check for the existing values."
   ]
  },
  {
   "cell_type": "code",
   "execution_count": 5,
   "metadata": {},
   "outputs": [
    {
     "data": {
      "text/html": [
       "<div>\n",
       "<style scoped>\n",
       "    .dataframe tbody tr th:only-of-type {\n",
       "        vertical-align: middle;\n",
       "    }\n",
       "\n",
       "    .dataframe tbody tr th {\n",
       "        vertical-align: top;\n",
       "    }\n",
       "\n",
       "    .dataframe thead th {\n",
       "        text-align: right;\n",
       "    }\n",
       "</style>\n",
       "<table border=\"1\" class=\"dataframe\">\n",
       "  <thead>\n",
       "    <tr style=\"text-align: right;\">\n",
       "      <th></th>\n",
       "      <th>User_ID</th>\n",
       "      <th>Occupation</th>\n",
       "      <th>Marital_Status</th>\n",
       "      <th>Product_Category_1</th>\n",
       "      <th>Product_Category_2</th>\n",
       "      <th>Product_Category_3</th>\n",
       "      <th>Purchase</th>\n",
       "    </tr>\n",
       "  </thead>\n",
       "  <tbody>\n",
       "    <tr>\n",
       "      <th>count</th>\n",
       "      <td>5.375770e+05</td>\n",
       "      <td>537577.00000</td>\n",
       "      <td>537577.000000</td>\n",
       "      <td>537577.000000</td>\n",
       "      <td>370591.000000</td>\n",
       "      <td>164278.000000</td>\n",
       "      <td>537577.000000</td>\n",
       "    </tr>\n",
       "    <tr>\n",
       "      <th>mean</th>\n",
       "      <td>1.002992e+06</td>\n",
       "      <td>8.08271</td>\n",
       "      <td>0.408797</td>\n",
       "      <td>5.295546</td>\n",
       "      <td>9.842144</td>\n",
       "      <td>12.669840</td>\n",
       "      <td>9333.859853</td>\n",
       "    </tr>\n",
       "    <tr>\n",
       "      <th>std</th>\n",
       "      <td>1.714393e+03</td>\n",
       "      <td>6.52412</td>\n",
       "      <td>0.491612</td>\n",
       "      <td>3.750701</td>\n",
       "      <td>5.087259</td>\n",
       "      <td>4.124341</td>\n",
       "      <td>4981.022133</td>\n",
       "    </tr>\n",
       "    <tr>\n",
       "      <th>min</th>\n",
       "      <td>1.000001e+06</td>\n",
       "      <td>0.00000</td>\n",
       "      <td>0.000000</td>\n",
       "      <td>1.000000</td>\n",
       "      <td>2.000000</td>\n",
       "      <td>3.000000</td>\n",
       "      <td>185.000000</td>\n",
       "    </tr>\n",
       "    <tr>\n",
       "      <th>25%</th>\n",
       "      <td>1.001495e+06</td>\n",
       "      <td>2.00000</td>\n",
       "      <td>0.000000</td>\n",
       "      <td>1.000000</td>\n",
       "      <td>5.000000</td>\n",
       "      <td>9.000000</td>\n",
       "      <td>5866.000000</td>\n",
       "    </tr>\n",
       "    <tr>\n",
       "      <th>50%</th>\n",
       "      <td>1.003031e+06</td>\n",
       "      <td>7.00000</td>\n",
       "      <td>0.000000</td>\n",
       "      <td>5.000000</td>\n",
       "      <td>9.000000</td>\n",
       "      <td>14.000000</td>\n",
       "      <td>8062.000000</td>\n",
       "    </tr>\n",
       "    <tr>\n",
       "      <th>75%</th>\n",
       "      <td>1.004417e+06</td>\n",
       "      <td>14.00000</td>\n",
       "      <td>1.000000</td>\n",
       "      <td>8.000000</td>\n",
       "      <td>15.000000</td>\n",
       "      <td>16.000000</td>\n",
       "      <td>12073.000000</td>\n",
       "    </tr>\n",
       "    <tr>\n",
       "      <th>max</th>\n",
       "      <td>1.006040e+06</td>\n",
       "      <td>20.00000</td>\n",
       "      <td>1.000000</td>\n",
       "      <td>18.000000</td>\n",
       "      <td>18.000000</td>\n",
       "      <td>18.000000</td>\n",
       "      <td>23961.000000</td>\n",
       "    </tr>\n",
       "  </tbody>\n",
       "</table>\n",
       "</div>"
      ],
      "text/plain": [
       "            User_ID    Occupation  Marital_Status  Product_Category_1  \\\n",
       "count  5.375770e+05  537577.00000   537577.000000       537577.000000   \n",
       "mean   1.002992e+06       8.08271        0.408797            5.295546   \n",
       "std    1.714393e+03       6.52412        0.491612            3.750701   \n",
       "min    1.000001e+06       0.00000        0.000000            1.000000   \n",
       "25%    1.001495e+06       2.00000        0.000000            1.000000   \n",
       "50%    1.003031e+06       7.00000        0.000000            5.000000   \n",
       "75%    1.004417e+06      14.00000        1.000000            8.000000   \n",
       "max    1.006040e+06      20.00000        1.000000           18.000000   \n",
       "\n",
       "       Product_Category_2  Product_Category_3       Purchase  \n",
       "count       370591.000000       164278.000000  537577.000000  \n",
       "mean             9.842144           12.669840    9333.859853  \n",
       "std              5.087259            4.124341    4981.022133  \n",
       "min              2.000000            3.000000     185.000000  \n",
       "25%              5.000000            9.000000    5866.000000  \n",
       "50%              9.000000           14.000000    8062.000000  \n",
       "75%             15.000000           16.000000   12073.000000  \n",
       "max             18.000000           18.000000   23961.000000  "
      ]
     },
     "execution_count": 5,
     "metadata": {},
     "output_type": "execute_result"
    }
   ],
   "source": [
    "data.describe()"
   ]
  },
  {
   "cell_type": "markdown",
   "metadata": {},
   "source": [
    "Since the minimum value is 1 in all the Product Categories then I can replace the NaN values with zero which means the product does not belong to this category."
   ]
  },
  {
   "cell_type": "code",
   "execution_count": 6,
   "metadata": {},
   "outputs": [],
   "source": [
    "data = data.fillna(0)"
   ]
  },
  {
   "cell_type": "markdown",
   "metadata": {},
   "source": [
    "### Age\n",
    "First I'll analyze the age group. I'll perform both univariate and multivariate analysis. "
   ]
  },
  {
   "cell_type": "code",
   "execution_count": 7,
   "metadata": {},
   "outputs": [
    {
     "data": {
      "text/plain": [
       "array(['0-17', '18-25', '26-35', '36-45', '46-50', '51-55', '55+'],\n",
       "      dtype=object)"
      ]
     },
     "execution_count": 7,
     "metadata": {},
     "output_type": "execute_result"
    }
   ],
   "source": [
    "np.unique(data['Age'])"
   ]
  },
  {
   "cell_type": "code",
   "execution_count": 8,
   "metadata": {},
   "outputs": [
    {
     "data": {
      "image/png": "[encoded data removed]",
      "text/plain": [
       "<Figure size 432x288 with 1 Axes>"
      ]
     },
     "metadata": {},
     "output_type": "display_data"
    }
   ],
   "source": [
    "Slices = data.groupby('Age').count()\n",
    "Slices = list(Slices['User_ID'])\n",
    "Labels = '0-17', '18-25', '26-35', '36-45', '46-50', '51-55', '55+'\n",
    "plt.pie(Slices, labels = Labels)\n",
    "plt.title(\"Buyers age distripution\")\n",
    "plt.axis('equal')\n",
    "plt.show()"
   ]
  },
  {
   "cell_type": "markdown",
   "metadata": {},
   "source": [
    "We conclude from the pie chart above that that most of the buyers were from the age groups 26-35 then 18-25. Both of them represent the more than half of the buyers. But that does not mean they spent the most compared to the other groups."
   ]
  },
  {
   "cell_type": "code",
   "execution_count": 9,
   "metadata": {},
   "outputs": [],
   "source": [
    "SumofPurchasePerAge = data.groupby('Age').mean()"
   ]
  },
  {
   "cell_type": "code",
   "execution_count": 10,
   "metadata": {},
   "outputs": [
    {
     "data": {
      "text/plain": [
       "Text(0.5, 0, 'Age Group')"
      ]
     },
     "execution_count": 10,
     "metadata": {},
     "output_type": "execute_result"
    },
    {
     "data": {
      "image/png": "[encoded data removed]",
      "text/plain": [
       "<Figure size 432x288 with 1 Axes>"
      ]
     },
     "metadata": {
      "needs_background": "light"
     },
     "output_type": "display_data"
    }
   ],
   "source": [
    "APA_bars = list(SumofPurchasePerAge['Purchase'])\n",
    "labels = ('0-17', '18-25', '26-35', '36-45', '46-50', '51-55', '55+')\n",
    "index = np.arange(len(labels))\n",
    "plt.title(\"Average of Purchase per age\")\n",
    "plt.bar(index, APA_bars, align='center', alpha=0.5)\n",
    "plt.xticks(index, labels)\n",
    "plt.ylabel('Price(Purchase)')\n",
    "plt.xlabel('Age Group')"
   ]
  },
  {
   "cell_type": "markdown",
   "metadata": {},
   "source": [
    "It seems from the bar chart above that the age group does not affect the purchase. The average of the purchases per age group are close. So, even though one age group bought more, that means they are the majority of the store costumers and they spend the same as the other costumers."
   ]
  },
  {
   "cell_type": "markdown",
   "metadata": {},
   "source": [
    "Lets see now if the age group affect the category which the costumers buy from."
   ]
  },
  {
   "cell_type": "markdown",
   "metadata": {},
   "source": [
    "### Gender\n",
    "I'll analyze the gender. I'll perform both univariate and multivariate analysis."
   ]
  },
  {
   "cell_type": "code",
   "execution_count": 11,
   "metadata": {},
   "outputs": [
    {
     "data": {
      "text/html": [
       "<div>\n",
       "<style scoped>\n",
       "    .dataframe tbody tr th:only-of-type {\n",
       "        vertical-align: middle;\n",
       "    }\n",
       "\n",
       "    .dataframe tbody tr th {\n",
       "        vertical-align: top;\n",
       "    }\n",
       "\n",
       "    .dataframe thead th {\n",
       "        text-align: right;\n",
       "    }\n",
       "</style>\n",
       "<table border=\"1\" class=\"dataframe\">\n",
       "  <thead>\n",
       "    <tr style=\"text-align: right;\">\n",
       "      <th></th>\n",
       "      <th>User_ID</th>\n",
       "      <th>Product_ID</th>\n",
       "      <th>Age</th>\n",
       "      <th>Occupation</th>\n",
       "      <th>City_Category</th>\n",
       "      <th>Stay_In_Current_City_Years</th>\n",
       "      <th>Marital_Status</th>\n",
       "      <th>Product_Category_1</th>\n",
       "      <th>Product_Category_2</th>\n",
       "      <th>Product_Category_3</th>\n",
       "      <th>Purchase</th>\n",
       "    </tr>\n",
       "    <tr>\n",
       "      <th>Gender</th>\n",
       "      <th></th>\n",
       "      <th></th>\n",
       "      <th></th>\n",
       "      <th></th>\n",
       "      <th></th>\n",
       "      <th></th>\n",
       "      <th></th>\n",
       "      <th></th>\n",
       "      <th></th>\n",
       "      <th></th>\n",
       "      <th></th>\n",
       "    </tr>\n",
       "  </thead>\n",
       "  <tbody>\n",
       "    <tr>\n",
       "      <th>F</th>\n",
       "      <td>132197</td>\n",
       "      <td>132197</td>\n",
       "      <td>132197</td>\n",
       "      <td>132197</td>\n",
       "      <td>132197</td>\n",
       "      <td>132197</td>\n",
       "      <td>132197</td>\n",
       "      <td>132197</td>\n",
       "      <td>132197</td>\n",
       "      <td>132197</td>\n",
       "      <td>132197</td>\n",
       "    </tr>\n",
       "    <tr>\n",
       "      <th>M</th>\n",
       "      <td>405380</td>\n",
       "      <td>405380</td>\n",
       "      <td>405380</td>\n",
       "      <td>405380</td>\n",
       "      <td>405380</td>\n",
       "      <td>405380</td>\n",
       "      <td>405380</td>\n",
       "      <td>405380</td>\n",
       "      <td>405380</td>\n",
       "      <td>405380</td>\n",
       "      <td>405380</td>\n",
       "    </tr>\n",
       "  </tbody>\n",
       "</table>\n",
       "</div>"
      ],
      "text/plain": [
       "        User_ID  Product_ID     Age  Occupation  City_Category  \\\n",
       "Gender                                                           \n",
       "F        132197      132197  132197      132197         132197   \n",
       "M        405380      405380  405380      405380         405380   \n",
       "\n",
       "        Stay_In_Current_City_Years  Marital_Status  Product_Category_1  \\\n",
       "Gender                                                                   \n",
       "F                           132197          132197              132197   \n",
       "M                           405380          405380              405380   \n",
       "\n",
       "        Product_Category_2  Product_Category_3  Purchase  \n",
       "Gender                                                    \n",
       "F                   132197              132197    132197  \n",
       "M                   405380              405380    405380  "
      ]
     },
     "execution_count": 11,
     "metadata": {},
     "output_type": "execute_result"
    }
   ],
   "source": [
    "Slices_G = data.groupby('Gender').count()\n",
    "Slices_G"
   ]
  },
  {
   "cell_type": "code",
   "execution_count": 12,
   "metadata": {},
   "outputs": [
    {
     "data": {
      "image/png": "[encoded data removed]",
      "text/plain": [
       "<Figure size 432x288 with 1 Axes>"
      ]
     },
     "metadata": {},
     "output_type": "display_data"
    }
   ],
   "source": [
    "Slices_G = list(Slices_G['User_ID'])\n",
    "Labels_G = 'Female', 'Male'\n",
    "plt.pie(Slices_G, labels = Labels_G)\n",
    "plt.title(\"Buyers gender\")\n",
    "plt.axis('equal')\n",
    "plt.show()"
   ]
  },
  {
   "cell_type": "markdown",
   "metadata": {},
   "source": [
    "From the pie chart we can see that the male costumers represent more than the female. Next I'll see who would spend more on average per purchase."
   ]
  },
  {
   "cell_type": "code",
   "execution_count": 13,
   "metadata": {},
   "outputs": [
    {
     "data": {
      "text/plain": [
       "Text(0.5, 0, 'Gender')"
      ]
     },
     "execution_count": 13,
     "metadata": {},
     "output_type": "execute_result"
    },
    {
     "data": {
      "image/png": "[encoded data removed]",
      "text/plain": [
       "<Figure size 432x288 with 1 Axes>"
      ]
     },
     "metadata": {
      "needs_background": "light"
     },
     "output_type": "display_data"
    }
   ],
   "source": [
    "SumofPurchasePerGender = data.groupby('Gender').mean()\n",
    "APG_bars = list(SumofPurchasePerGender['Purchase'])\n",
    "labels = ('Female', 'Male')\n",
    "index = np.arange(len(labels))\n",
    "plt.title(\"Average of Purchase per age\")\n",
    "plt.bar(index, APG_bars, align='center', alpha=0.5)\n",
    "plt.xticks(index, labels)\n",
    "plt.ylabel('Price(Purchase)')\n",
    "plt.xlabel('Gender')"
   ]
  },
  {
   "cell_type": "markdown",
   "metadata": {},
   "source": [
    "It can be seen from the bar chart above that the there is no huge difference between the males and females in spending. "
   ]
  },
  {
   "cell_type": "markdown",
   "metadata": {},
   "source": [
    "### Occupation\n",
    "I'll analyze the occupation to see if the occupation affects the buyers or the price of the purchase. I'll perform both univariate and multivariate analysis."
   ]
  },
  {
   "cell_type": "code",
   "execution_count": 14,
   "metadata": {},
   "outputs": [
    {
     "data": {
      "text/html": [
       "<div>\n",
       "<style scoped>\n",
       "    .dataframe tbody tr th:only-of-type {\n",
       "        vertical-align: middle;\n",
       "    }\n",
       "\n",
       "    .dataframe tbody tr th {\n",
       "        vertical-align: top;\n",
       "    }\n",
       "\n",
       "    .dataframe thead th {\n",
       "        text-align: right;\n",
       "    }\n",
       "</style>\n",
       "<table border=\"1\" class=\"dataframe\">\n",
       "  <thead>\n",
       "    <tr style=\"text-align: right;\">\n",
       "      <th></th>\n",
       "      <th>User_ID</th>\n",
       "      <th>Product_ID</th>\n",
       "      <th>Gender</th>\n",
       "      <th>Age</th>\n",
       "      <th>City_Category</th>\n",
       "      <th>Stay_In_Current_City_Years</th>\n",
       "      <th>Marital_Status</th>\n",
       "      <th>Product_Category_1</th>\n",
       "      <th>Product_Category_2</th>\n",
       "      <th>Product_Category_3</th>\n",
       "      <th>Purchase</th>\n",
       "    </tr>\n",
       "    <tr>\n",
       "      <th>Occupation</th>\n",
       "      <th></th>\n",
       "      <th></th>\n",
       "      <th></th>\n",
       "      <th></th>\n",
       "      <th></th>\n",
       "      <th></th>\n",
       "      <th></th>\n",
       "      <th></th>\n",
       "      <th></th>\n",
       "      <th></th>\n",
       "      <th></th>\n",
       "    </tr>\n",
       "  </thead>\n",
       "  <tbody>\n",
       "    <tr>\n",
       "      <th>0</th>\n",
       "      <td>68120</td>\n",
       "      <td>68120</td>\n",
       "      <td>68120</td>\n",
       "      <td>68120</td>\n",
       "      <td>68120</td>\n",
       "      <td>68120</td>\n",
       "      <td>68120</td>\n",
       "      <td>68120</td>\n",
       "      <td>68120</td>\n",
       "      <td>68120</td>\n",
       "      <td>68120</td>\n",
       "    </tr>\n",
       "    <tr>\n",
       "      <th>1</th>\n",
       "      <td>45971</td>\n",
       "      <td>45971</td>\n",
       "      <td>45971</td>\n",
       "      <td>45971</td>\n",
       "      <td>45971</td>\n",
       "      <td>45971</td>\n",
       "      <td>45971</td>\n",
       "      <td>45971</td>\n",
       "      <td>45971</td>\n",
       "      <td>45971</td>\n",
       "      <td>45971</td>\n",
       "    </tr>\n",
       "    <tr>\n",
       "      <th>2</th>\n",
       "      <td>25845</td>\n",
       "      <td>25845</td>\n",
       "      <td>25845</td>\n",
       "      <td>25845</td>\n",
       "      <td>25845</td>\n",
       "      <td>25845</td>\n",
       "      <td>25845</td>\n",
       "      <td>25845</td>\n",
       "      <td>25845</td>\n",
       "      <td>25845</td>\n",
       "      <td>25845</td>\n",
       "    </tr>\n",
       "    <tr>\n",
       "      <th>3</th>\n",
       "      <td>17366</td>\n",
       "      <td>17366</td>\n",
       "      <td>17366</td>\n",
       "      <td>17366</td>\n",
       "      <td>17366</td>\n",
       "      <td>17366</td>\n",
       "      <td>17366</td>\n",
       "      <td>17366</td>\n",
       "      <td>17366</td>\n",
       "      <td>17366</td>\n",
       "      <td>17366</td>\n",
       "    </tr>\n",
       "    <tr>\n",
       "      <th>4</th>\n",
       "      <td>70862</td>\n",
       "      <td>70862</td>\n",
       "      <td>70862</td>\n",
       "      <td>70862</td>\n",
       "      <td>70862</td>\n",
       "      <td>70862</td>\n",
       "      <td>70862</td>\n",
       "      <td>70862</td>\n",
       "      <td>70862</td>\n",
       "      <td>70862</td>\n",
       "      <td>70862</td>\n",
       "    </tr>\n",
       "    <tr>\n",
       "      <th>5</th>\n",
       "      <td>11985</td>\n",
       "      <td>11985</td>\n",
       "      <td>11985</td>\n",
       "      <td>11985</td>\n",
       "      <td>11985</td>\n",
       "      <td>11985</td>\n",
       "      <td>11985</td>\n",
       "      <td>11985</td>\n",
       "      <td>11985</td>\n",
       "      <td>11985</td>\n",
       "      <td>11985</td>\n",
       "    </tr>\n",
       "    <tr>\n",
       "      <th>6</th>\n",
       "      <td>19822</td>\n",
       "      <td>19822</td>\n",
       "      <td>19822</td>\n",
       "      <td>19822</td>\n",
       "      <td>19822</td>\n",
       "      <td>19822</td>\n",
       "      <td>19822</td>\n",
       "      <td>19822</td>\n",
       "      <td>19822</td>\n",
       "      <td>19822</td>\n",
       "      <td>19822</td>\n",
       "    </tr>\n",
       "    <tr>\n",
       "      <th>7</th>\n",
       "      <td>57806</td>\n",
       "      <td>57806</td>\n",
       "      <td>57806</td>\n",
       "      <td>57806</td>\n",
       "      <td>57806</td>\n",
       "      <td>57806</td>\n",
       "      <td>57806</td>\n",
       "      <td>57806</td>\n",
       "      <td>57806</td>\n",
       "      <td>57806</td>\n",
       "      <td>57806</td>\n",
       "    </tr>\n",
       "    <tr>\n",
       "      <th>8</th>\n",
       "      <td>1524</td>\n",
       "      <td>1524</td>\n",
       "      <td>1524</td>\n",
       "      <td>1524</td>\n",
       "      <td>1524</td>\n",
       "      <td>1524</td>\n",
       "      <td>1524</td>\n",
       "      <td>1524</td>\n",
       "      <td>1524</td>\n",
       "      <td>1524</td>\n",
       "      <td>1524</td>\n",
       "    </tr>\n",
       "    <tr>\n",
       "      <th>9</th>\n",
       "      <td>6153</td>\n",
       "      <td>6153</td>\n",
       "      <td>6153</td>\n",
       "      <td>6153</td>\n",
       "      <td>6153</td>\n",
       "      <td>6153</td>\n",
       "      <td>6153</td>\n",
       "      <td>6153</td>\n",
       "      <td>6153</td>\n",
       "      <td>6153</td>\n",
       "      <td>6153</td>\n",
       "    </tr>\n",
       "    <tr>\n",
       "      <th>10</th>\n",
       "      <td>12623</td>\n",
       "      <td>12623</td>\n",
       "      <td>12623</td>\n",
       "      <td>12623</td>\n",
       "      <td>12623</td>\n",
       "      <td>12623</td>\n",
       "      <td>12623</td>\n",
       "      <td>12623</td>\n",
       "      <td>12623</td>\n",
       "      <td>12623</td>\n",
       "      <td>12623</td>\n",
       "    </tr>\n",
       "    <tr>\n",
       "      <th>11</th>\n",
       "      <td>11338</td>\n",
       "      <td>11338</td>\n",
       "      <td>11338</td>\n",
       "      <td>11338</td>\n",
       "      <td>11338</td>\n",
       "      <td>11338</td>\n",
       "      <td>11338</td>\n",
       "      <td>11338</td>\n",
       "      <td>11338</td>\n",
       "      <td>11338</td>\n",
       "      <td>11338</td>\n",
       "    </tr>\n",
       "    <tr>\n",
       "      <th>12</th>\n",
       "      <td>30423</td>\n",
       "      <td>30423</td>\n",
       "      <td>30423</td>\n",
       "      <td>30423</td>\n",
       "      <td>30423</td>\n",
       "      <td>30423</td>\n",
       "      <td>30423</td>\n",
       "      <td>30423</td>\n",
       "      <td>30423</td>\n",
       "      <td>30423</td>\n",
       "      <td>30423</td>\n",
       "    </tr>\n",
       "    <tr>\n",
       "      <th>13</th>\n",
       "      <td>7548</td>\n",
       "      <td>7548</td>\n",
       "      <td>7548</td>\n",
       "      <td>7548</td>\n",
       "      <td>7548</td>\n",
       "      <td>7548</td>\n",
       "      <td>7548</td>\n",
       "      <td>7548</td>\n",
       "      <td>7548</td>\n",
       "      <td>7548</td>\n",
       "      <td>7548</td>\n",
       "    </tr>\n",
       "    <tr>\n",
       "      <th>14</th>\n",
       "      <td>26712</td>\n",
       "      <td>26712</td>\n",
       "      <td>26712</td>\n",
       "      <td>26712</td>\n",
       "      <td>26712</td>\n",
       "      <td>26712</td>\n",
       "      <td>26712</td>\n",
       "      <td>26712</td>\n",
       "      <td>26712</td>\n",
       "      <td>26712</td>\n",
       "      <td>26712</td>\n",
       "    </tr>\n",
       "    <tr>\n",
       "      <th>15</th>\n",
       "      <td>11812</td>\n",
       "      <td>11812</td>\n",
       "      <td>11812</td>\n",
       "      <td>11812</td>\n",
       "      <td>11812</td>\n",
       "      <td>11812</td>\n",
       "      <td>11812</td>\n",
       "      <td>11812</td>\n",
       "      <td>11812</td>\n",
       "      <td>11812</td>\n",
       "      <td>11812</td>\n",
       "    </tr>\n",
       "    <tr>\n",
       "      <th>16</th>\n",
       "      <td>24790</td>\n",
       "      <td>24790</td>\n",
       "      <td>24790</td>\n",
       "      <td>24790</td>\n",
       "      <td>24790</td>\n",
       "      <td>24790</td>\n",
       "      <td>24790</td>\n",
       "      <td>24790</td>\n",
       "      <td>24790</td>\n",
       "      <td>24790</td>\n",
       "      <td>24790</td>\n",
       "    </tr>\n",
       "    <tr>\n",
       "      <th>17</th>\n",
       "      <td>39090</td>\n",
       "      <td>39090</td>\n",
       "      <td>39090</td>\n",
       "      <td>39090</td>\n",
       "      <td>39090</td>\n",
       "      <td>39090</td>\n",
       "      <td>39090</td>\n",
       "      <td>39090</td>\n",
       "      <td>39090</td>\n",
       "      <td>39090</td>\n",
       "      <td>39090</td>\n",
       "    </tr>\n",
       "    <tr>\n",
       "      <th>18</th>\n",
       "      <td>6525</td>\n",
       "      <td>6525</td>\n",
       "      <td>6525</td>\n",
       "      <td>6525</td>\n",
       "      <td>6525</td>\n",
       "      <td>6525</td>\n",
       "      <td>6525</td>\n",
       "      <td>6525</td>\n",
       "      <td>6525</td>\n",
       "      <td>6525</td>\n",
       "      <td>6525</td>\n",
       "    </tr>\n",
       "    <tr>\n",
       "      <th>19</th>\n",
       "      <td>8352</td>\n",
       "      <td>8352</td>\n",
       "      <td>8352</td>\n",
       "      <td>8352</td>\n",
       "      <td>8352</td>\n",
       "      <td>8352</td>\n",
       "      <td>8352</td>\n",
       "      <td>8352</td>\n",
       "      <td>8352</td>\n",
       "      <td>8352</td>\n",
       "      <td>8352</td>\n",
       "    </tr>\n",
       "    <tr>\n",
       "      <th>20</th>\n",
       "      <td>32910</td>\n",
       "      <td>32910</td>\n",
       "      <td>32910</td>\n",
       "      <td>32910</td>\n",
       "      <td>32910</td>\n",
       "      <td>32910</td>\n",
       "      <td>32910</td>\n",
       "      <td>32910</td>\n",
       "      <td>32910</td>\n",
       "      <td>32910</td>\n",
       "      <td>32910</td>\n",
       "    </tr>\n",
       "  </tbody>\n",
       "</table>\n",
       "</div>"
      ],
      "text/plain": [
       "            User_ID  Product_ID  Gender    Age  City_Category  \\\n",
       "Occupation                                                      \n",
       "0             68120       68120   68120  68120          68120   \n",
       "1             45971       45971   45971  45971          45971   \n",
       "2             25845       25845   25845  25845          25845   \n",
       "3             17366       17366   17366  17366          17366   \n",
       "4             70862       70862   70862  70862          70862   \n",
       "5             11985       11985   11985  11985          11985   \n",
       "6             19822       19822   19822  19822          19822   \n",
       "7             57806       57806   57806  57806          57806   \n",
       "8              1524        1524    1524   1524           1524   \n",
       "9              6153        6153    6153   6153           6153   \n",
       "10            12623       12623   12623  12623          12623   \n",
       "11            11338       11338   11338  11338          11338   \n",
       "12            30423       30423   30423  30423          30423   \n",
       "13             7548        7548    7548   7548           7548   \n",
       "14            26712       26712   26712  26712          26712   \n",
       "15            11812       11812   11812  11812          11812   \n",
       "16            24790       24790   24790  24790          24790   \n",
       "17            39090       39090   39090  39090          39090   \n",
       "18             6525        6525    6525   6525           6525   \n",
       "19             8352        8352    8352   8352           8352   \n",
       "20            32910       32910   32910  32910          32910   \n",
       "\n",
       "            Stay_In_Current_City_Years  Marital_Status  Product_Category_1  \\\n",
       "Occupation                                                                   \n",
       "0                                68120           68120               68120   \n",
       "1                                45971           45971               45971   \n",
       "2                                25845           25845               25845   \n",
       "3                                17366           17366               17366   \n",
       "4                                70862           70862               70862   \n",
       "5                                11985           11985               11985   \n",
       "6                                19822           19822               19822   \n",
       "7                                57806           57806               57806   \n",
       "8                                 1524            1524                1524   \n",
       "9                                 6153            6153                6153   \n",
       "10                               12623           12623               12623   \n",
       "11                               11338           11338               11338   \n",
       "12                               30423           30423               30423   \n",
       "13                                7548            7548                7548   \n",
       "14                               26712           26712               26712   \n",
       "15                               11812           11812               11812   \n",
       "16                               24790           24790               24790   \n",
       "17                               39090           39090               39090   \n",
       "18                                6525            6525                6525   \n",
       "19                                8352            8352                8352   \n",
       "20                               32910           32910               32910   \n",
       "\n",
       "            Product_Category_2  Product_Category_3  Purchase  \n",
       "Occupation                                                    \n",
       "0                        68120               68120     68120  \n",
       "1                        45971               45971     45971  \n",
       "2                        25845               25845     25845  \n",
       "3                        17366               17366     17366  \n",
       "4                        70862               70862     70862  \n",
       "5                        11985               11985     11985  \n",
       "6                        19822               19822     19822  \n",
       "7                        57806               57806     57806  \n",
       "8                         1524                1524      1524  \n",
       "9                         6153                6153      6153  \n",
       "10                       12623               12623     12623  \n",
       "11                       11338               11338     11338  \n",
       "12                       30423               30423     30423  \n",
       "13                        7548                7548      7548  \n",
       "14                       26712               26712     26712  \n",
       "15                       11812               11812     11812  \n",
       "16                       24790               24790     24790  \n",
       "17                       39090               39090     39090  \n",
       "18                        6525                6525      6525  \n",
       "19                        8352                8352      8352  \n",
       "20                       32910               32910     32910  "
      ]
     },
     "execution_count": 14,
     "metadata": {},
     "output_type": "execute_result"
    }
   ],
   "source": [
    "Slices_O = data.groupby('Occupation').count()\n",
    "Slices_O"
   ]
  },
  {
   "cell_type": "code",
   "execution_count": 15,
   "metadata": {},
   "outputs": [
    {
     "data": {
      "image/png": "[encoded data removed]",
      "text/plain": [
       "<Figure size 432x288 with 1 Axes>"
      ]
     },
     "metadata": {},
     "output_type": "display_data"
    }
   ],
   "source": [
    "Slices_O = list(Slices_O['User_ID'])\n",
    "Labels_O = '0',  '1',  '2',  '3',  '4',  '5',  '6',  '7',  '8',  '9', '10', '11', '12', '13', '14', '15', '16', '17', '18', '19', '20'\n",
    "plt.pie(Slices_O, labels = Labels_O)\n",
    "plt.title(\"Buyers gender\")\n",
    "plt.axis('equal')\n",
    "plt.show()"
   ]
  },
  {
   "cell_type": "markdown",
   "metadata": {},
   "source": [
    "From the pie chart we can see that occupation 0,4 and 7 are the most frequent among the costumers. Let's see which occupation spends more."
   ]
  },
  {
   "cell_type": "code",
   "execution_count": 16,
   "metadata": {},
   "outputs": [
    {
     "data": {
      "text/plain": [
       "Text(0.5, 0, 'Occupation')"
      ]
     },
     "execution_count": 16,
     "metadata": {},
     "output_type": "execute_result"
    },
    {
     "data": {
      "image/png": "[encoded data removed]",
      "text/plain": [
       "<Figure size 432x288 with 1 Axes>"
      ]
     },
     "metadata": {
      "needs_background": "light"
     },
     "output_type": "display_data"
    }
   ],
   "source": [
    "SumofPurchasePerOccup = data.groupby('Occupation').mean()\n",
    "APO_bars = list(SumofPurchasePerOccup['Purchase'])\n",
    "labels = ('0',  '1',  '2',  '3',  '4',  '5',  '6',  '7',  '8',  '9', '10', '11', '12', '13', '14', '15', '16', '17', '18', '19', '20')\n",
    "index = np.arange(len(labels))\n",
    "plt.title(\"Average of Purchase per age\")\n",
    "plt.bar(index, APO_bars, align='center', alpha=0.5)\n",
    "plt.xticks(index, labels)\n",
    "plt.ylabel('Price(Purchase)')\n",
    "plt.xlabel('Occupation')"
   ]
  },
  {
   "cell_type": "markdown",
   "metadata": {},
   "source": [
    "Same as the results with the age and gender, the occupation does not affect the purchase. But the lowest purchase average is for occupation 9 and the highest is for 12 and 17."
   ]
  },
  {
   "cell_type": "markdown",
   "metadata": {},
   "source": [
    "### Checking for Outliers\n",
    "Since all the data are qualitative except for the Purchase column, it is the only column that I can perform this analysis on."
   ]
  },
  {
   "cell_type": "code",
   "execution_count": 17,
   "metadata": {},
   "outputs": [
    {
     "data": {
      "text/plain": [
       "<matplotlib.axes._subplots.AxesSubplot at 0x1a218bde48>"
      ]
     },
     "execution_count": 17,
     "metadata": {},
     "output_type": "execute_result"
    },
    {
     "data": {
      "image/png": "[encoded data removed]",
      "text/plain": [
       "<Figure size 432x288 with 1 Axes>"
      ]
     },
     "metadata": {
      "needs_background": "light"
     },
     "output_type": "display_data"
    }
   ],
   "source": [
    "data.boxplot(['Purchase'], vert = False)"
   ]
  },
  {
   "cell_type": "markdown",
   "metadata": {},
   "source": [
    "From the box plot above, there are no outliers. The extreme values above are not considered outliers as they may represent highly priced items such as TVs. It's is not only one value, it is more than one which eliminated the possibility of it being a typo."
   ]
  },
  {
   "cell_type": "markdown",
   "metadata": {},
   "source": [
    "## Q & A\n",
    "### What can the stores do to increase the profits?\n",
    "From the analysis above, the store can target the costumers within 19-35 since they are the majority. Also, they should target the female users to increase their purchases and make them buy from the store more.\n",
    "\n",
    "### What factors affect the store's sales?\n",
    "Based on the analysis the sales are affected by the age group and gender. It also may be affected by the city and product categories but I did not analyze them yet.\n",
    "\n",
    "### What are the common features between the costumers who bought the same product?\n",
    "I'm not sure what type of analysis is needed to answer this question. I'd suggest identifying the commonly bought products then using the count function to generate a table where the highest number of summation means that it is a common feature."
   ]
  }
 ],
 "metadata": {
  "kernelspec": {
   "display_name": "Python 3",
   "language": "python",
   "name": "python3"
  },
  "language_info": {
   "codemirror_mode": {
    "name": "ipython",
    "version": 3
   },
   "file_extension": ".py",
   "mimetype": "text/x-python",
   "name": "python",
   "nbconvert_exporter": "python",
   "pygments_lexer": "ipython3",
   "version": "3.7.3"
  },
  "toc": {
   "base_numbering": 1,
   "nav_menu": {},
   "number_sections": true,
   "sideBar": true,
   "skip_h1_title": false,
   "title_cell": "Table of Contents",
   "title_sidebar": "Contents",
   "toc_cell": false,
   "toc_position": {},
   "toc_section_display": true,
   "toc_window_display": false
  }
 },
 "nbformat": 4,
 "nbformat_minor": 2
}
